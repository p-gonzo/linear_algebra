{
 "cells": [
  {
   "cell_type": "code",
   "execution_count": 5,
   "metadata": {},
   "outputs": [],
   "source": [
    "import matplotlib.pyplot as plt\n",
    "import numpy as np"
   ]
  },
  {
   "cell_type": "code",
   "execution_count": 6,
   "metadata": {},
   "outputs": [],
   "source": [
    "i_hat = np.array([1, 0])\n",
    "j_hat = np.array([0, 1])"
   ]
  },
  {
   "cell_type": "code",
   "execution_count": 168,
   "metadata": {},
   "outputs": [],
   "source": [
    "basis_vectors = np.array([i_hat, j_hat])"
   ]
  },
  {
   "cell_type": "code",
   "execution_count": 220,
   "metadata": {},
   "outputs": [],
   "source": [
    "def plot_transformation(start, trans_matrix):\n",
    "    \n",
    "    origin = np.zeros((2,len(start)))\n",
    "    \n",
    "    start_x = start[:,0]\n",
    "    start_y = start[:,1]\n",
    "    \n",
    "    transformation = start.dot(trans_matrix)\n",
    "    \n",
    "    trans_x = transformation[:,0]\n",
    "    trans_y = transformation[:,1]\n",
    "    \n",
    "    \n",
    "    axis_limit = max(abs(start.min()), start.max(), abs(transformation.min()), transformation.max() ) * 1.3\n",
    "    \n",
    "    \n",
    "    plt.axis('square')\n",
    "    plt.quiver(\n",
    "        *origin,\n",
    "        start_x,\n",
    "        start_y,\n",
    "        angles='xy',\n",
    "        scale_units='xy',\n",
    "        scale=1,\n",
    "        color='blue'\n",
    "    )\n",
    "    \n",
    "    plt.quiver(\n",
    "        *origin,\n",
    "        trans_x,\n",
    "        trans_y,\n",
    "        angles='xy',\n",
    "        scale_units='xy',\n",
    "        scale=1,\n",
    "        color='red'\n",
    "    )\n",
    "    \n",
    "    plt.xlim(-1 * axis_limit, axis_limit)\n",
    "    plt.ylim(-1 * axis_limit, axis_limit)\n",
    "    \n",
    "    plt.grid()\n",
    "    plt.show()\n"
   ]
  },
  {
   "cell_type": "code",
   "execution_count": 221,
   "metadata": {},
   "outputs": [],
   "source": [
    "transformation = np.array([[.5, 2], [-0.5, .5]])"
   ]
  },
  {
   "cell_type": "code",
   "execution_count": 222,
   "metadata": {},
   "outputs": [
    {
     "data": {
      "image/png": "[encoded data removed]",
      "text/plain": [
       "<Figure size 432x288 with 1 Axes>"
      ]
     },
     "metadata": {
      "needs_background": "light"
     },
     "output_type": "display_data"
    }
   ],
   "source": [
    "plot_transformation(basis_vectors, transformation)"
   ]
  }
 ],
 "metadata": {
  "kernelspec": {
   "display_name": "Python 3",
   "language": "python",
   "name": "python3"
  },
  "language_info": {
   "codemirror_mode": {
    "name": "ipython",
    "version": 3
   },
   "file_extension": ".py",
   "mimetype": "text/x-python",
   "name": "python",
   "nbconvert_exporter": "python",
   "pygments_lexer": "ipython3",
   "version": "3.6.5"
  }
 },
 "nbformat": 4,
 "nbformat_minor": 2
}
