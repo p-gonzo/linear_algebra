{
 "cells": [
  {
   "cell_type": "code",
   "execution_count": 1,
   "metadata": {},
   "outputs": [],
   "source": [
    "import numpy as np"
   ]
  },
  {
   "cell_type": "code",
   "execution_count": 2,
   "metadata": {},
   "outputs": [],
   "source": [
    "inputs = np.array([.5, .5, .6, .9])"
   ]
  },
  {
   "cell_type": "code",
   "execution_count": 3,
   "metadata": {},
   "outputs": [],
   "source": [
    "dense_layer_weights = np.array([[ 0.81835306, -0.23239908,  0.6506299 ,  0.21783918,  0.27162793,\n",
    "        -0.12351876, -0.16342488, -0.6116278 ],\n",
    "       [-0.20286793, -0.6403848 , -0.19865394,  0.34566385,  0.05355632,\n",
    "         0.7617943 ,  0.17708725,  0.3822567 ],\n",
    "       [ 0.21517096,  0.05956292,  0.00468947,  0.26633084,  0.6261074 ,\n",
    "        -0.2541544 , -0.02967423, -0.07386237],\n",
    "       [-0.39198846,  0.4821152 , -0.32181394,  0.36043078,  0.4802994 ,\n",
    "        -0.18012887, -0.30728677,  0.05972211]])"
   ]
  },
  {
   "cell_type": "code",
   "execution_count": 46,
   "metadata": {},
   "outputs": [
    {
     "name": "stdout",
     "output_type": "stream",
     "text": [
      "[[ 0.81835306 -0.23239908  0.6506299   0.21783918  0.27162793 -0.12351876\n",
      "  -0.16342488 -0.6116278 ]\n",
      " [-0.20286793 -0.6403848  -0.19865394  0.34566385  0.05355632  0.7617943\n",
      "   0.17708725  0.3822567 ]\n",
      " [ 0.21517096  0.05956292  0.00468947  0.26633084  0.6261074  -0.2541544\n",
      "  -0.02967423 -0.07386237]\n",
      " [-0.39198846  0.4821152  -0.32181394  0.36043078  0.4802994  -0.18012887\n",
      "  -0.30728677  0.05972211]]\n"
     ]
    }
   ],
   "source": [
    "for weights in dense_layer_weights:\n",
    "    weights = [weight for weight in weights]\n",
    "print(dense_layer_weights)"
   ]
  },
  {
   "cell_type": "code",
   "execution_count": 4,
   "metadata": {},
   "outputs": [],
   "source": [
    "dense_layer_biasis = np.array([ 0.        ,  0.        ,  0.        , -0.17635192, -0.65838534,\n",
    "        0.33030558,  0.46418095,  0.        ])"
   ]
  },
  {
   "cell_type": "code",
   "execution_count": 5,
   "metadata": {},
   "outputs": [],
   "source": [
    "dense_layer = inputs.dot(dense_layer_weights) + dense_layer_biasis"
   ]
  },
  {
   "cell_type": "code",
   "execution_count": 6,
   "metadata": {},
   "outputs": [
    {
     "data": {
      "text/plain": [
       "array([ 0.08405553,  0.03324949, -0.06083088,  0.5895858 ,  0.31214068,\n",
       "        0.33483473,  0.1766495 , -0.10525307])"
      ]
     },
     "execution_count": 6,
     "metadata": {},
     "output_type": "execute_result"
    }
   ],
   "source": [
    "dense_layer"
   ]
  },
  {
   "cell_type": "code",
   "execution_count": 7,
   "metadata": {},
   "outputs": [],
   "source": [
    "# ReLU Activation function\n",
    "dense_layer = np.maximum(dense_layer, np.zeros(8))"
   ]
  },
  {
   "cell_type": "code",
   "execution_count": 8,
   "metadata": {},
   "outputs": [
    {
     "data": {
      "text/plain": [
       "array([0.08405553, 0.03324949, 0.        , 0.5895858 , 0.31214068,\n",
       "       0.33483473, 0.1766495 , 0.        ])"
      ]
     },
     "execution_count": 8,
     "metadata": {},
     "output_type": "execute_result"
    }
   ],
   "source": [
    "dense_layer"
   ]
  },
  {
   "cell_type": "code",
   "execution_count": 9,
   "metadata": {},
   "outputs": [],
   "source": [
    "output_layer_weights = np.array([[-0.40520093,  0.22385392],\n",
    "       [-0.6962119 ,  0.09724002],\n",
    "       [-0.05982208,  0.00445205],\n",
    "       [-1.0027152 , -0.6188464 ],\n",
    "       [ 0.27941048,  0.748731  ],\n",
    "       [ 0.6478007 , -0.39079598],\n",
    "       [ 0.6618757 ,  0.49175286],\n",
    "       [-0.16648918,  0.6622045 ]])"
   ]
  },
  {
   "cell_type": "code",
   "execution_count": 41,
   "metadata": {},
   "outputs": [
    {
     "data": {
      "text/plain": [
       "array([[-0.73145051,  0.37912003],\n",
       "       [ 0.27355134,  0.64947415],\n",
       "       [-0.08160826,  0.23720309],\n",
       "       [-0.50028843, -0.12158747],\n",
       "       [-0.40041275, -0.42547235],\n",
       "       [ 0.02220743, -0.06222732],\n",
       "       [-0.86023277,  0.777752  ],\n",
       "       [-0.50640165, -0.3999039 ]])"
      ]
     },
     "execution_count": 41,
     "metadata": {},
     "output_type": "execute_result"
    }
   ],
   "source": []
  },
  {
   "cell_type": "code",
   "execution_count": 10,
   "metadata": {},
   "outputs": [],
   "source": [
    "output_layer_biasis = np.array([0.0, 0.0])"
   ]
  },
  {
   "cell_type": "code",
   "execution_count": 11,
   "metadata": {},
   "outputs": [
    {
     "data": {
      "text/plain": [
       "array([0.08405553, 0.03324949, 0.        , 0.5895858 , 0.31214068,\n",
       "       0.33483473, 0.1766495 , 0.        ])"
      ]
     },
     "execution_count": 11,
     "metadata": {},
     "output_type": "execute_result"
    }
   ],
   "source": [
    "dense_layer"
   ]
  },
  {
   "cell_type": "code",
   "execution_count": 12,
   "metadata": {},
   "outputs": [],
   "source": [
    "output_layer = dense_layer.dot(output_layer_weights) + output_layer_biasis"
   ]
  },
  {
   "cell_type": "code",
   "execution_count": 13,
   "metadata": {},
   "outputs": [
    {
     "data": {
      "text/plain": [
       "array([-0.22735315, -0.15308847])"
      ]
     },
     "execution_count": 13,
     "metadata": {},
     "output_type": "execute_result"
    }
   ],
   "source": [
    "output_layer"
   ]
  },
  {
   "cell_type": "code",
   "execution_count": 14,
   "metadata": {},
   "outputs": [],
   "source": [
    "# Softmax function\n",
    "output_layer = [np.exp(value) / sum(np.exp(output_layer)) for value in output_layer]"
   ]
  },
  {
   "cell_type": "code",
   "execution_count": 15,
   "metadata": {},
   "outputs": [
    {
     "data": {
      "text/plain": [
       "[0.4814423579739254, 0.5185576420260746]"
      ]
     },
     "execution_count": 15,
     "metadata": {},
     "output_type": "execute_result"
    }
   ],
   "source": [
    "output_layer"
   ]
  },
  {
   "cell_type": "code",
   "execution_count": 36,
   "metadata": {},
   "outputs": [
    {
     "data": {
      "text/plain": [
       "array([[ 0.7062159 , -0.37671933, -1.42455489,  0.43026267, -0.36959533,\n",
       "        -0.29059966,  0.45647056, -0.47362789],\n",
       "       [-0.42038319,  0.46465038, -0.25364454,  0.38731073, -0.28123452,\n",
       "        -0.41551746, -0.3979169 , -0.32534929],\n",
       "       [-0.74869486,  0.27024656,  0.02878238, -0.2174023 , -0.45635043,\n",
       "        -0.83173848,  1.06813139,  0.59777182],\n",
       "       [ 0.69855725,  0.32967414, -0.51495563,  0.74346082, -0.11278412,\n",
       "        -0.61161409, -0.85431315,  0.57788657]])"
      ]
     },
     "execution_count": 36,
     "metadata": {},
     "output_type": "execute_result"
    }
   ],
   "source": [
    "np.random.normal(scale=0.5, size=(4,8))"
   ]
  },
  {
   "cell_type": "code",
   "execution_count": 37,
   "metadata": {},
   "outputs": [
    {
     "data": {
      "text/plain": [
       "array([0., 0., 0., 0., 0., 0., 0., 0.])"
      ]
     },
     "execution_count": 37,
     "metadata": {},
     "output_type": "execute_result"
    }
   ],
   "source": [
    "np.zeros(8)"
   ]
  },
  {
   "cell_type": "code",
   "execution_count": 42,
   "metadata": {},
   "outputs": [],
   "source": [
    "from copy import deepcopy"
   ]
  },
  {
   "cell_type": "code",
   "execution_count": 70,
   "metadata": {},
   "outputs": [],
   "source": [
    "class Brain:\n",
    "    def __init__(self, parent_brain = None):\n",
    "        if parent_brain is not None:\n",
    "            self.copy_parent_brain(parent_brain)\n",
    "            self.mutate()\n",
    "        else:\n",
    "            # Initialize random brain structure\n",
    "            self.dense_layer_weights = np.random.normal(scale=0.5, size=(4,8))\n",
    "            self.dense_layer_biases = np.zeros(8)\n",
    "            self.output_layer_weights = np.random.normal(scale=0.5, size=(8,2))\n",
    "            self.output_layer_biases = np.zeros(2)\n",
    "        \n",
    "    def copy_parent_brain(self, parent_brain):\n",
    "        self.dense_layer_weights = deepcopy(parent_brain.dense_layer_weights)\n",
    "        self.dense_layer_biases = deepcopy(parent_brain.dense_layer_biases)\n",
    "        self.output_layer_weights = deepcopy(parent_brain.output_layer_weights)\n",
    "        self.output_layer_biases = deepcopy(parent_brain.output_layer_biases)\n",
    "    \n",
    "    def mutate(self, mutation_rate, variance_low, variance_high):\n",
    "        for weight_set in self.dense_layer_weights:\n",
    "            for weight in weight_set:\n",
    "                if np.random.random() < mutation_rate:\n",
    "                    weight = np.random.normal() * np.random.uniform(low=variance_low, high=variance_high)\n",
    "        for weight in self.dense_layer_biases:\n",
    "            if np.random.random() < mutation_rate:\n",
    "                weight = np.random.normal() * np.random.uniform(low=variance_low, high=variance_high)\n",
    "        for weight_set in self.output_layer_weights:\n",
    "            for weight in weight_set:\n",
    "                if np.random.random() < mutation_rate:\n",
    "                    weight = np.random.normal() * np.random.uniform(low=variance_low, high=variance_high)\n",
    "        for weight in self.output_layer_biases:\n",
    "            if np.random.random() < mutation_rate:\n",
    "                weight = np.random.normal() * np.random.uniform(low=variance_low, high=variance_high)\n",
    "    \n",
    "    def predict(self, input_layer):\n",
    "        dense_layer = input_layer.dot(self.dense_layer_weights) + self.dense_layer_biases\n",
    "        # ReLU activation\n",
    "        dense_layer = np.maximum(dense_layer, np.zeros(8))\n",
    "        output_layer = dense_layer.dot(self.output_layer_weights) + self.output_layer_biases\n",
    "        # Softmax\n",
    "        output_layer = [np.exp(value) / sum(np.exp(output_layer)) for value in output_layer]\n",
    "        print(output_layer)\n",
    "        return output_layer[0] > output_layer[1]"
   ]
  },
  {
   "cell_type": "code",
   "execution_count": 71,
   "metadata": {},
   "outputs": [],
   "source": [
    "new_brain = Brain()"
   ]
  },
  {
   "cell_type": "code",
   "execution_count": 72,
   "metadata": {},
   "outputs": [
    {
     "data": {
      "text/plain": [
       "array([[ 0.80641797,  0.5641356 ,  0.71014113, -0.39176957, -0.23689521,\n",
       "        -0.78969193,  0.06564181, -0.25393524],\n",
       "       [-0.59881481, -0.12778103, -0.24195659,  0.15132341, -0.1962933 ,\n",
       "        -0.70512823, -0.04005461,  0.31713768],\n",
       "       [ 0.21914894, -0.91829995,  0.65640534,  0.02895018,  0.30449733,\n",
       "         0.46068046, -0.40435361,  0.96084575],\n",
       "       [ 1.14211594,  0.03461946, -0.3957016 , -0.06663217, -0.79447243,\n",
       "         0.18129267, -0.1051021 ,  0.15532289]])"
      ]
     },
     "execution_count": 72,
     "metadata": {},
     "output_type": "execute_result"
    }
   ],
   "source": [
    "new_brain.dense_layer_weights"
   ]
  },
  {
   "cell_type": "code",
   "execution_count": null,
   "metadata": {},
   "outputs": [],
   "source": []
  }
 ],
 "metadata": {
  "kernelspec": {
   "display_name": "Python 3",
   "language": "python",
   "name": "python3"
  },
  "language_info": {
   "codemirror_mode": {
    "name": "ipython",
    "version": 3
   },
   "file_extension": ".py",
   "mimetype": "text/x-python",
   "name": "python",
   "nbconvert_exporter": "python",
   "pygments_lexer": "ipython3",
   "version": "3.6.5"
  }
 },
 "nbformat": 4,
 "nbformat_minor": 2
}
