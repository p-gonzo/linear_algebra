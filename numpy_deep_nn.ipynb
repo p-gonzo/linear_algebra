{
 "cells": [
  {
   "cell_type": "code",
   "execution_count": 12,
   "metadata": {},
   "outputs": [],
   "source": [
    "import numpy as np\n",
    "from IPython.display import Image"
   ]
  },
  {
   "cell_type": "code",
   "execution_count": 2,
   "metadata": {},
   "outputs": [],
   "source": [
    "NN_ARCHITECTURE = [\n",
    "    {\"input_dim\": 2, \"output_dim\": 25, \"activation\": \"relu\"},\n",
    "    {\"input_dim\": 25, \"output_dim\": 50, \"activation\": \"relu\"},\n",
    "    {\"input_dim\": 50, \"output_dim\": 50, \"activation\": \"relu\"},\n",
    "    {\"input_dim\": 50, \"output_dim\": 25, \"activation\": \"relu\"},\n",
    "    {\"input_dim\": 25, \"output_dim\": 1, \"activation\": \"sigmoid\"},\n",
    "]"
   ]
  },
  {
   "cell_type": "code",
   "execution_count": 5,
   "metadata": {},
   "outputs": [],
   "source": [
    "# Function for initilizing our nn weights and biasis\n",
    "def init_layers(nn_architecture, seed=101):\n",
    "    np.random.seed(seed)\n",
    "    number_of_layers = len(nn_architecture)\n",
    "    params_values = {}\n",
    "    \n",
    "    for idx, layer in enumerate(nn_architecture):\n",
    "        layer_idx = idx + 1\n",
    "        layer_input_size = layer[\"input_dim\"]\n",
    "        layer_output_size = layer[\"output_dim\"]\n",
    "        \n",
    "        params_values[f\"W{layer_idx}\"] = np.random.randn(layer_output_size, layer_input_size) * 0.1\n",
    "        params_values[f\"B{layer_idx}\"] = np.random.randn(layer_output_size) * 0.1\n",
    "        \n",
    "    return params_values\n",
    "        "
   ]
  },
  {
   "cell_type": "code",
   "execution_count": 7,
   "metadata": {},
   "outputs": [],
   "source": [
    "# Activation Functions and their respective dirivatives:\n",
    "\n",
    "def sigmoid(Z):\n",
    "    return 1 / (1 + np.exp(-Z))\n",
    "\n",
    "def relu(Z):\n",
    "    return np.maximum(0, Z)\n",
    "\n",
    "def sigmoid_gradient(dA, Z):\n",
    "    sig = sigmoid(Z)\n",
    "    return dA * sig * (1 - sig)\n",
    "\n",
    "def relu_gradient(dA, Z):\n",
    "    dZ = np.array(dA, copy=True)\n",
    "    dZ[Z <= 0] = 0;\n",
    "    return dZ"
   ]
  },
  {
   "cell_type": "code",
   "execution_count": 9,
   "metadata": {},
   "outputs": [],
   "source": [
    "# Given the inputs from a previous layer, calculate the next layer\n",
    "\n",
    "def single_layer_forward_propagation(A_prev, W_curr, b_curr, activation=\"relu\"):\n",
    "    Z_curr = np.dot(W_curr * A_prev) + b_curr\n",
    "    \n",
    "    if activation is \"relu\":\n",
    "        active_fn = relu\n",
    "    elif activation is \"sigmoid\":\n",
    "        active_fn = sigmoid\n",
    "    else:\n",
    "        raise Exception(\"Non-supported activation function\")\n",
    "        \n",
    "    return active_fn(Z_curr), Z_curr"
   ]
  },
  {
   "cell_type": "code",
   "execution_count": 10,
   "metadata": {},
   "outputs": [],
   "source": [
    "def full_forward_propagation(X, params_values, nn_architecture):\n",
    "    # Create a temporary memory hash for the backwards_stop\n",
    "    memory = {}\n",
    "    A_curr = X # X vector is the activation for layer 0\n",
    "    \n",
    "    # Iterate over network layers:\n",
    "    for idx, layer in enumerate(nn_architecture):\n",
    "        layer_idx = idx + 1\n",
    "        # Transfer the previous activation into the current layer\n",
    "        A_prev = A_curr\n",
    "        \n",
    "        active_fn_curr = layer[\"activation\"]\n",
    "        W_curr = params_values[f\"W{layer_idx}\"]\n",
    "        b_curr = params_values[f\"b{layer_idx}\"]\n",
    "        A_curr, Z_curr = single_layer_forward_propagation(A_prev, W_curr, b_curr, active_fn_curr)\n",
    "        \n",
    "        memory[f\"A{idx}\"] = A_prev\n",
    "        memory[f\"Z{layer_idx}\"] = Z_curr # Why do we store Z_curr instead of A_curr\n",
    "        \n",
    "    return A_curr, memory"
   ]
  },
  {
   "cell_type": "markdown",
   "metadata": {},
   "source": [
    "![Cost Function](./assets/cost_function.gif)"
   ]
  },
  {
   "cell_type": "code",
   "execution_count": 16,
   "metadata": {},
   "outputs": [],
   "source": [
    "def get_cross_entropy_cost(Y_hat, Y):\n",
    "    m = Y_hat.shape[1] # Number of examples\n",
    "    # https://ml-cheatsheet.readthedocs.io/en/latest/loss_functions.html#id11\n",
    "    # https://www.youtube.com/watch?v=mj5DpK5gGsY\n",
    "    cost = (-1 / m) * (np.dot(Y, np.log(Y_hat).T) + np.dot(1 - Y, np.log(1 - Y_hat).T))\n",
    "    return np.squeeze(cost)"
   ]
  },
  {
   "cell_type": "code",
   "execution_count": null,
   "metadata": {},
   "outputs": [],
   "source": []
  }
 ],
 "metadata": {
  "kernelspec": {
   "display_name": "Python 3",
   "language": "python",
   "name": "python3"
  },
  "language_info": {
   "codemirror_mode": {
    "name": "ipython",
    "version": 3
   },
   "file_extension": ".py",
   "mimetype": "text/x-python",
   "name": "python",
   "nbconvert_exporter": "python",
   "pygments_lexer": "ipython3",
   "version": "3.6.5"
  }
 },
 "nbformat": 4,
 "nbformat_minor": 2
}
